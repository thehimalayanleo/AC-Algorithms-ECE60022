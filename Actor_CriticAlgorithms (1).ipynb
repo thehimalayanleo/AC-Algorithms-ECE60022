{
  "nbformat": 4,
  "nbformat_minor": 0,
  "metadata": {
    "colab": {
      "name": "Actor-CriticAlgorithms.ipynb",
      "provenance": [],
      "collapsed_sections": []
    },
    "kernelspec": {
      "name": "python3",
      "display_name": "Python 3"
    },
    "accelerator": "GPU"
  },
  "cells": [
    {
      "cell_type": "code",
      "metadata": {
        "id": "dW5NK0mo0lY2",
        "colab_type": "code",
        "colab": {}
      },
      "source": [
        "# Import Libraries\n",
        "import torch\n",
        "from torch import *\n",
        "from torch.distributions import Categorical\n",
        "import torch.nn as nn\n",
        "import torch.optim as optim\n",
        "import torch.nn.functional as F\n",
        "import matplotlib.pyplot as plt\n",
        "import numpy as np\n",
        "from torch.autograd import Variable\n",
        "\n",
        "use_cuda = torch.cuda.is_available()\n",
        "device   = torch.device(\"cuda\" if use_cuda else \"cpu\")"
      ],
      "execution_count": 0,
      "outputs": []
    },
    {
      "cell_type": "code",
      "metadata": {
        "id": "giAEayax-zyS",
        "colab_type": "code",
        "colab": {}
      },
      "source": [
        "class envChannel:\n",
        "  def __init__(self, n_users, n_channels, memory, k=1, p =0.75):\n",
        "    self.memory = memory\n",
        "    self.n_users = n_users\n",
        "    self.p = p\n",
        "    self.n_channels = n_channels\n",
        "    self.k = k # Hard-coded for ease of use, but potentially should allow for \"N choose k\" options\n",
        "    self.action_space = np.arange(self.n_channels+1) # what possible actions (i.e. channels) can an user pick\n",
        "    self.users_action = np.zeros([self.n_users]) # what channel is picked\n",
        "    self.obs = np.zeros((memory, \n",
        "                         self.n_users)) # what state channels are in\n",
        "    temp = np.random.choice(2, self.n_channels)\n",
        "    self.state = temp.reshape(1, self.n_channels)\n",
        "    #print(type(self.state))\n",
        "    #print(temp.shape, self.state.shape)\n",
        "\n",
        "  def reset(self):\n",
        "    return self.state # assumption is that the probability is 0.5 of channel state being switched\n",
        "    #return state.reshape(1, self.n_channels)\n",
        "  \n",
        "  def sample(self):\n",
        "    return np.random.choice(self.action_space, size=self.n_users) # randomly choose one of the channels\n",
        "\n",
        "  def step(self, actions, channel_states):\n",
        "    # Initialize the reward, discountfactor and the observation vectors\n",
        "    reward = []\n",
        "    discountfactor = np.zeros([self.n_channels])\n",
        "    \n",
        "    obs_t = channel_states[0]\n",
        "    #print(obs_t)\n",
        "    ## New channel states\n",
        "\n",
        "    # Compute the discount factor\n",
        "    for indx in range(len(actions)):\n",
        "      action = actions[indx]\n",
        "      discountfactor[action]+=1 # how many users in a channel\n",
        "\n",
        "    \n",
        "      # For non-observed channels indicate the observations as 0, otherwise do the switching for the others\n",
        "\n",
        "    # Find the reward per user at time t\n",
        "    for user in range(n_users):\n",
        "      action = actions[user]\n",
        "      if discountfactor[action]!=0: # If at least one user selected the channel\n",
        "        if channel_states[0][action] == 1: # If its a good state channel\n",
        "          if discountfactor[action]>1:\n",
        "            reward.append(1/(discountfactor[action]))\n",
        "          else:\n",
        "            reward.append(1) # good channel with no collision\n",
        "        else: # If the channel is in a bad state\n",
        "          reward.append(-1)\n",
        "    #print(reward)\n",
        "    state = np.zeros([self.n_channels]) # decide on the next input to AC\n",
        "    #print(state, obs_t), channel_states\n",
        "\n",
        "    for channel in range(n_channels): # Find the states\n",
        "      if discountfactor[channel] == 1: # If only one user selected the channel, the state is just the observation\n",
        "        state[channel] = obs_t[channel]\n",
        "      elif discountfactor[channel] > 1: # Otherwise the state is for multiple users\n",
        "        if channel_states[0][channel] == 1: # if channel was in good state\n",
        "          state[channel]=1/(discountfactor[channel]) # Then factor in the discount factor\n",
        "        elif channel_states[0][channel] == -1: \n",
        "          state[channel] = -1 # Just make it 1 for a bad state channel'''\n",
        "        elif channel_states[0][channel] == 0:\n",
        "          state[channel] = 0\n",
        "      else: # if no one accessed the channel\n",
        "        state[channel] = 0\n",
        "    #print(state)\n",
        "\n",
        "    for indx in range(n_channels): # Update new observation with switching probability p (only if actions allow you to view it)\n",
        "      \n",
        "        #print('yo')\n",
        "        #print(self.p)\n",
        "      if np.random.rand() < self.p: # swtiching probability\n",
        "        obs_t[indx] = ((channel_states[0][indx]+1)%2)\n",
        "      else:\n",
        "        obs_t[indx] = channel_states[0][indx]\n",
        "\n",
        "    #self.state = obs_t.reshape(1, n_channels)\n",
        "    #print('r', reward)\n",
        "    return state, obs_t, reward # returns observations (new) and the rewards obtained\n",
        "\n",
        "\n",
        "    "
      ],
      "execution_count": 0,
      "outputs": []
    },
    {
      "cell_type": "code",
      "metadata": {
        "id": "8NX6UPpp002c",
        "colab_type": "code",
        "colab": {}
      },
      "source": [
        "# Class which creates the Actor Critic Model\n",
        "# Takes inputs of action space as n_inputs, n_outputs are the number of channels\n",
        "# hidden indicates the number of neurons in the hidden layer\n",
        "class Actor(nn.Module):\n",
        "  def __init__(self, n_inputs, n_outputs, hidden):\n",
        "    super(Actor, self).__init__()\n",
        "    #self.actor = nn.Sequential(\n",
        "    self.l1 = nn.Linear(n_inputs, hidden)\n",
        "    self.r = nn.ReLU()\n",
        "    self.l2 = nn.Linear(hidden, n_outputs)\n",
        "    self.smax = nn.Softmax(dim=1)\n",
        "    #)\n",
        "\n",
        "  def forward(self, x):\n",
        "    x = self.l1(x)\n",
        "    x = self.r(x)\n",
        "    x = self.l2(x)\n",
        "    scores = self.smax(x)\n",
        "    return Categorical(scores)\n",
        "\n",
        "class Critic(nn.Module):\n",
        "  def __init__(self, n_inputs, hidden):\n",
        "    super(Critic, self).__init__()\n",
        "    self.critic = nn.Sequential(\n",
        "        nn.Linear(n_inputs, hidden),\n",
        "        nn.ReLU(),\n",
        "        nn.Linear(hidden, 1)\n",
        "    )\n",
        "\n",
        "  def forward(self, x):\n",
        "    value = self.critic(x)\n",
        "    return value"
      ],
      "execution_count": 0,
      "outputs": []
    },
    {
      "cell_type": "code",
      "metadata": {
        "id": "zttyiO8L7R4T",
        "colab_type": "code",
        "colab": {}
      },
      "source": [
        "#AC\n",
        "\n",
        "# Define the parameters\n",
        "n_envs = 8 # general default for AC\n",
        "n_users = 1\n",
        "n_channels = 8\n",
        "memory = 1\n",
        "\n",
        "model_actor = Actor(n_channels, n_channels, 200).to(device)\n",
        "optimizer_actor = optim.Adam(model_actor.parameters(), lr=10**(-3))\n",
        "\n",
        "model_critic = Critic(n_channels, 200).to(device)\n",
        "optimizer_critic = optim.Adam(model_critic.parameters(), lr=5*(10**(-3)))"
      ],
      "execution_count": 0,
      "outputs": []
    },
    {
      "cell_type": "code",
      "metadata": {
        "id": "YpwgwZ31DTkL",
        "colab_type": "code",
        "colab": {}
      },
      "source": [
        "\n",
        "\n",
        "def runner(p):\n",
        "  sums = 0\n",
        "\n",
        "  T = 10000\n",
        "  sums_random = 0\n",
        "  r_random = []\n",
        "  Rewards_total = []\n",
        "  env = envChannel(n_users, n_channels, memory, p)\n",
        "  state = env.reset()\n",
        "  channel_states = torch.from_numpy(state).float().to(device)\n",
        "  \n",
        "  modelsA, modelsC = [], []\n",
        "  optA, optC = [], []\n",
        "  for indx in range(n_users):\n",
        "    modelsA.append(Actor(n_channels, n_channels, 200).to(device))\n",
        "    optA.append(optim.Adam(modelsA[-1].parameters(), lr=10**(-3)))\n",
        "\n",
        "    modelsC.append(Critic(n_channels, 200).to(device))\n",
        "    optC.append(optim.Adam(modelsC[-1].parameters(), lr=5*(10**(-3))))\n",
        "\n",
        "  for t_indx in range(T):\n",
        "   \n",
        "  #if T%250000==0:\n",
        "    actions = []\n",
        "    delta = []\n",
        "    values, log_probs = [], []\n",
        "     # tells which channel is in what state\n",
        "    state_tensor = torch.from_numpy(state).float().to(device)\n",
        "    for user in range(n_users): # loop over each user to get the current state\n",
        "      value = modelsC[user](state_tensor) # passed to critic for a single user\n",
        "      values.append(value)\n",
        "      dist = modelsA[user](state_tensor) # passed to obtain distribution of the policy\n",
        "      action = dist.sample() # get the action of the user\n",
        "      actions.append(action)\n",
        "      log_prob = dist.log_prob(action)\n",
        "      log_probs.append(log_prob)\n",
        "\n",
        "    df = np.zeros([n_channels])\n",
        "    rand_choice = np.random.choice(n_channels, n_users)\n",
        "    for indx in range(len(rand_choice)):\n",
        "      action = rand_choice[indx]\n",
        "      df[action]+=1 # how many users in a channel\n",
        "    r_random_small = []\n",
        "    for user in range(n_users):\n",
        "      action = rand_choice[user]\n",
        "      if df[action]!=0: # If at least one user selected the channel\n",
        "        if channel_states[0][action] == 1: # If its a good state channel\n",
        "          if df[action]>1:\n",
        "            r_random_small.append(1/(df[action]))\n",
        "          else:\n",
        "            r_random_small.append(1) # good channel with no collision\n",
        "        else: # If the channel is in a bad state\n",
        "          r_random_small.append(-1)\n",
        "    actions = torch.cat(actions)\n",
        "    #print(channel_states)\n",
        "    next_state, channel_states, rewards = env.step(actions.cpu().numpy(), channel_states) # get rewards and next states\n",
        "    channel_states = np.array([channel_states])\n",
        "    nrewards = []\n",
        "    next_state = next_state.tolist()\n",
        "    #print(type(next_state))\n",
        "  #for reward in rewards:\n",
        "    #nrewards.append(torch.tensor(reward, requires_grad=True).unsqueeze(0).to(device))\n",
        "  #print(rewards)\n",
        "    nrewards.append(torch.from_numpy(np.array(rewards)).float().to(device))\n",
        "    nrewards = torch.cat(nrewards) \n",
        "    log_probs = torch.cat(log_probs)\n",
        "    values = torch.cat(values)\n",
        "    closs, aloss = [], []\n",
        "    #print(state)\n",
        "    for user in range(n_users):\n",
        "      next_state_tensor =  torch.from_numpy(np.array(next_state)).float().to(device)\n",
        "      next_value = modelsC[user](next_state_tensor)\n",
        "      #print(next_value, value, nrewards[0])\n",
        "\n",
        "      temp = nrewards[user]+0.9*next_value - values[user]\n",
        "      temp_var = Variable(temp, requires_grad=True)\n",
        "      delta.append(temp)\n",
        "\n",
        "      closs.append(temp_var.pow(2).mean())\n",
        "      optC[user].zero_grad()\n",
        "      closs[-1].backward(retain_graph=True)\n",
        "      optC[user].step()\n",
        "\n",
        "      aloss.append(-(log_probs * temp_var.detach()).mean())\n",
        "      optA[user].zero_grad()\n",
        "      aloss[-1].backward(retain_graph=True)\n",
        "      optA[user].step()\n",
        "    #print(nrewards)\n",
        "    if t_indx%10==0:\n",
        "      sums+=nrewards.mean()\n",
        "      Rewards_total.append(sums)\n",
        "      sums_random+=np.array(r_random_small).mean()\n",
        "      r_random.append(sums_random)\n",
        "      sums = 0\n",
        "      sums_random = 0\n",
        "  #log_probs = torch.from_numpy(np.array(log_probs))\n",
        "    delta   = torch.cat(delta).detach()\n",
        "    delta_var = Variable(delta, requires_grad=True)\n",
        "  #print(delta)\n",
        "  #values    = torch.from_numpy(np.array(values)).float().to(device)\n",
        "\n",
        "  #t_state = np.random.choice(2, n_channels)\n",
        "  #state = t_state.reshape(1, n_channels)\n",
        "  #for indx in range(len(state)):\n",
        "  #  if np.random.rand() < p: # swtiching probability\n",
        "  #    channel_states[indx] = ((channel_states[indx]+1)%2)\n",
        "\n",
        " # print(state)\n",
        "\n",
        "    state = np.array([next_state]) # switch to next state\n",
        "    #print(state)\n",
        "\n",
        "    '''critic_loss = delta_var.pow(2).mean()\n",
        "    optimizer_critic.zero_grad()\n",
        "    critic_loss.backward()\n",
        "    optimizer_critic.step()\n",
        "\n",
        "    actor_loss  = -(log_probs * delta_var.detach()).mean()\n",
        "    optimizer_actor.zero_grad()\n",
        "    actor_loss.backward()\n",
        "    optimizer_actor.step()'''\n",
        "\n",
        "\n",
        "\n",
        "  total = sum(Rewards_total)/len(Rewards_total)\n",
        "  rtotal = sum(r_random)/len(r_random)\n",
        "  return Rewards_total, total, rtotal \n",
        "\n",
        "  print(\"Total\", sum(Rewards_total)/len(Rewards_total))\n",
        "\n",
        "\n"
      ],
      "execution_count": 0,
      "outputs": []
    },
    {
      "cell_type": "code",
      "metadata": {
        "id": "Pt43QemQKhIh",
        "colab_type": "code",
        "colab": {}
      },
      "source": [
        "# Run for the various probabilities\n",
        "\n",
        "r75, t75, rand75 = runner(0.75)\n",
        "r80, t80, rand80 = runner(0.80)\n",
        "r85, t85, rand85 = runner(0.85)\n",
        "r90, t90, rand90 = runner(0.90)"
      ],
      "execution_count": 0,
      "outputs": []
    },
    {
      "cell_type": "code",
      "metadata": {
        "id": "yKJHvSEAKqx-",
        "colab_type": "code",
        "outputId": "7527486a-e8df-4cc1-eacc-9bdebcad459d",
        "colab": {
          "base_uri": "https://localhost:8080/",
          "height": 333
        }
      },
      "source": [
        "#print(t75, t80, t85, t90)\n",
        "prob = [0.75, 0.8, 0.85, 0.9]\n",
        "plt.plot(prob, [t75, t80, t85, t90], label='TD-AC')\n",
        "plt.plot(prob, [rand75, rand80, rand85, rand90], label='Random')\n",
        "plt.xticks(prob, prob)\n",
        "plt.legend()\n",
        "plt.grid()\n",
        "plt.ylabel('Average Reward')\n",
        "plt.xlabel('Probabilities')\n",
        "\n",
        "plt.title('Comparisons')\n",
        "plt.savefig('first.png', bbox_inches='tight')\n",
        "plt.show()\n",
        "\n",
        "print(r75)"
      ],
      "execution_count": 9,
      "outputs": [
        {
          "output_type": "display_data",
          "data": {
            "image/png": "[encoded data removed]",
            "text/plain": [
              "<Figure size 432x288 with 1 Axes>"
            ]
          },
          "metadata": {
            "tags": [],
            "needs_background": "light"
          }
        },
        {
          "output_type": "stream",
          "text": [
            "[tensor(-1., device='cuda:0'), tensor(-1., device='cuda:0'), tensor(-1., device='cuda:0'), tensor(1., device='cuda:0'), tensor(-1., device='cuda:0'), tensor(-1., device='cuda:0'), tensor(-1., device='cuda:0'), tensor(-1., device='cuda:0'), tensor(-1., device='cuda:0'), tensor(-1., device='cuda:0'), tensor(-1., device='cuda:0'), tensor(-1., device='cuda:0'), tensor(1., device='cuda:0'), tensor(-1., device='cuda:0'), tensor(1., device='cuda:0'), tensor(1., device='cuda:0'), tensor(-1., device='cuda:0'), tensor(1., device='cuda:0'), tensor(1., device='cuda:0'), tensor(1., device='cuda:0'), tensor(-1., device='cuda:0'), tensor(1., device='cuda:0'), tensor(-1., device='cuda:0'), tensor(1., device='cuda:0'), tensor(-1., device='cuda:0'), tensor(-1., device='cuda:0'), tensor(-1., device='cuda:0'), tensor(-1., device='cuda:0'), tensor(-1., device='cuda:0'), tensor(1., device='cuda:0'), tensor(1., device='cuda:0'), tensor(1., device='cuda:0'), tensor(1., device='cuda:0'), tensor(1., device='cuda:0'), tensor(-1., device='cuda:0'), tensor(1., device='cuda:0'), tensor(-1., device='cuda:0'), tensor(1., device='cuda:0'), tensor(-1., device='cuda:0'), tensor(-1., device='cuda:0'), tensor(1., device='cuda:0'), tensor(-1., device='cuda:0'), tensor(1., device='cuda:0'), tensor(-1., device='cuda:0'), tensor(1., device='cuda:0'), tensor(-1., device='cuda:0'), tensor(-1., device='cuda:0'), tensor(1., device='cuda:0'), tensor(-1., device='cuda:0'), tensor(1., device='cuda:0'), tensor(1., device='cuda:0'), tensor(1., device='cuda:0'), tensor(-1., device='cuda:0'), tensor(1., device='cuda:0'), tensor(-1., device='cuda:0'), tensor(-1., device='cuda:0'), tensor(-1., device='cuda:0'), tensor(-1., device='cuda:0'), tensor(-1., device='cuda:0'), tensor(1., device='cuda:0'), tensor(1., device='cuda:0'), tensor(-1., device='cuda:0'), tensor(-1., device='cuda:0'), tensor(1., device='cuda:0'), tensor(-1., device='cuda:0'), tensor(1., device='cuda:0'), tensor(-1., device='cuda:0'), tensor(1., device='cuda:0'), tensor(1., device='cuda:0'), tensor(1., device='cuda:0'), tensor(1., device='cuda:0'), tensor(1., device='cuda:0'), tensor(1., device='cuda:0'), tensor(-1., device='cuda:0'), tensor(1., device='cuda:0'), tensor(1., device='cuda:0'), tensor(-1., device='cuda:0'), tensor(1., device='cuda:0'), tensor(-1., device='cuda:0'), tensor(-1., device='cuda:0'), tensor(1., device='cuda:0'), tensor(1., device='cuda:0'), tensor(1., device='cuda:0'), tensor(-1., device='cuda:0'), tensor(-1., device='cuda:0'), tensor(-1., device='cuda:0'), tensor(1., device='cuda:0'), tensor(1., device='cuda:0'), tensor(1., device='cuda:0'), tensor(-1., device='cuda:0'), tensor(-1., device='cuda:0'), tensor(1., device='cuda:0'), tensor(-1., device='cuda:0'), tensor(1., device='cuda:0'), tensor(1., device='cuda:0'), tensor(1., device='cuda:0'), tensor(-1., device='cuda:0'), tensor(1., device='cuda:0'), tensor(1., device='cuda:0'), tensor(-1., device='cuda:0'), tensor(1., device='cuda:0'), tensor(1., device='cuda:0'), tensor(-1., device='cuda:0'), tensor(1., device='cuda:0'), tensor(1., device='cuda:0'), tensor(1., device='cuda:0'), tensor(-1., device='cuda:0'), tensor(1., device='cuda:0'), tensor(1., device='cuda:0'), tensor(-1., device='cuda:0'), tensor(-1., device='cuda:0'), tensor(1., device='cuda:0'), tensor(-1., device='cuda:0'), tensor(1., device='cuda:0'), tensor(1., device='cuda:0'), tensor(-1., device='cuda:0'), tensor(1., device='cuda:0'), tensor(-1., device='cuda:0'), tensor(1., device='cuda:0'), tensor(-1., device='cuda:0'), tensor(-1., device='cuda:0'), tensor(-1., device='cuda:0'), tensor(-1., device='cuda:0'), tensor(-1., device='cuda:0'), tensor(1., device='cuda:0'), tensor(1., device='cuda:0'), tensor(1., device='cuda:0'), tensor(-1., device='cuda:0'), tensor(1., device='cuda:0'), tensor(-1., device='cuda:0'), tensor(-1., device='cuda:0'), tensor(1., device='cuda:0'), tensor(-1., device='cuda:0'), tensor(-1., device='cuda:0'), tensor(1., device='cuda:0'), tensor(1., device='cuda:0'), tensor(1., device='cuda:0'), tensor(-1., device='cuda:0'), tensor(1., device='cuda:0'), tensor(1., device='cuda:0'), tensor(1., device='cuda:0'), tensor(1., device='cuda:0'), tensor(1., device='cuda:0'), tensor(1., device='cuda:0'), tensor(-1., device='cuda:0'), tensor(1., device='cuda:0'), tensor(1., device='cuda:0'), tensor(-1., device='cuda:0'), tensor(-1., device='cuda:0'), tensor(1., device='cuda:0'), tensor(1., device='cuda:0'), tensor(-1., device='cuda:0'), tensor(1., device='cuda:0'), tensor(-1., device='cuda:0'), tensor(1., device='cuda:0'), tensor(1., device='cuda:0'), tensor(1., device='cuda:0'), tensor(-1., device='cuda:0'), tensor(1., device='cuda:0'), tensor(1., device='cuda:0'), tensor(-1., device='cuda:0'), tensor(1., device='cuda:0'), tensor(-1., device='cuda:0'), tensor(1., device='cuda:0'), tensor(1., device='cuda:0'), tensor(1., device='cuda:0'), tensor(1., device='cuda:0'), tensor(1., device='cuda:0'), tensor(1., device='cuda:0'), tensor(1., device='cuda:0'), tensor(-1., device='cuda:0'), tensor(1., device='cuda:0'), tensor(1., device='cuda:0'), tensor(-1., device='cuda:0'), tensor(-1., device='cuda:0'), tensor(-1., device='cuda:0'), tensor(-1., device='cuda:0'), tensor(-1., device='cuda:0'), tensor(-1., device='cuda:0'), tensor(-1., device='cuda:0'), tensor(-1., device='cuda:0'), tensor(-1., device='cuda:0'), tensor(-1., device='cuda:0'), tensor(1., device='cuda:0'), tensor(1., device='cuda:0'), tensor(-1., device='cuda:0'), tensor(1., device='cuda:0'), tensor(-1., device='cuda:0'), tensor(-1., device='cuda:0'), tensor(1., device='cuda:0'), tensor(1., device='cuda:0'), tensor(-1., device='cuda:0'), tensor(-1., device='cuda:0'), tensor(1., device='cuda:0'), tensor(1., device='cuda:0'), tensor(-1., device='cuda:0'), tensor(1., device='cuda:0'), tensor(1., device='cuda:0'), tensor(1., device='cuda:0'), tensor(1., device='cuda:0'), tensor(-1., device='cuda:0'), tensor(-1., device='cuda:0'), tensor(-1., device='cuda:0'), tensor(-1., device='cuda:0'), tensor(1., device='cuda:0'), tensor(1., device='cuda:0'), tensor(-1., device='cuda:0'), tensor(1., device='cuda:0'), tensor(1., device='cuda:0'), tensor(-1., device='cuda:0'), tensor(-1., device='cuda:0'), tensor(1., device='cuda:0'), tensor(1., device='cuda:0'), tensor(1., device='cuda:0'), tensor(-1., device='cuda:0'), tensor(1., device='cuda:0'), tensor(1., device='cuda:0'), tensor(1., device='cuda:0'), tensor(-1., device='cuda:0'), tensor(1., device='cuda:0'), tensor(-1., device='cuda:0'), tensor(1., device='cuda:0'), tensor(1., device='cuda:0'), tensor(1., device='cuda:0'), tensor(1., device='cuda:0'), tensor(-1., device='cuda:0'), tensor(-1., device='cuda:0'), tensor(-1., device='cuda:0'), tensor(1., device='cuda:0'), tensor(1., device='cuda:0'), tensor(1., device='cuda:0'), tensor(-1., device='cuda:0'), tensor(1., device='cuda:0'), tensor(1., device='cuda:0'), tensor(1., device='cuda:0'), tensor(1., device='cuda:0'), tensor(1., device='cuda:0'), tensor(1., device='cuda:0'), tensor(1., device='cuda:0'), tensor(-1., device='cuda:0'), tensor(1., device='cuda:0'), tensor(1., device='cuda:0'), tensor(1., device='cuda:0'), tensor(1., device='cuda:0'), tensor(1., device='cuda:0'), tensor(1., device='cuda:0'), tensor(1., device='cuda:0'), tensor(-1., device='cuda:0'), tensor(1., device='cuda:0'), tensor(1., device='cuda:0'), tensor(1., device='cuda:0'), tensor(1., device='cuda:0'), tensor(-1., device='cuda:0'), tensor(1., device='cuda:0'), tensor(-1., device='cuda:0'), tensor(-1., device='cuda:0'), tensor(-1., device='cuda:0'), tensor(1., device='cuda:0'), tensor(-1., device='cuda:0'), tensor(-1., device='cuda:0'), tensor(1., device='cuda:0'), tensor(1., device='cuda:0'), tensor(1., device='cuda:0'), tensor(-1., device='cuda:0'), tensor(1., device='cuda:0'), tensor(1., device='cuda:0'), tensor(1., device='cuda:0'), tensor(1., device='cuda:0'), tensor(-1., device='cuda:0'), tensor(1., device='cuda:0'), tensor(-1., device='cuda:0'), tensor(1., device='cuda:0'), tensor(-1., device='cuda:0'), tensor(1., device='cuda:0'), tensor(1., device='cuda:0'), tensor(-1., device='cuda:0'), tensor(-1., device='cuda:0'), tensor(-1., device='cuda:0'), tensor(-1., device='cuda:0'), tensor(1., device='cuda:0'), tensor(-1., device='cuda:0'), tensor(-1., device='cuda:0'), tensor(-1., device='cuda:0'), tensor(-1., device='cuda:0'), tensor(1., device='cuda:0'), tensor(1., device='cuda:0'), tensor(1., device='cuda:0'), tensor(1., device='cuda:0'), tensor(1., device='cuda:0'), tensor(-1., device='cuda:0'), tensor(1., device='cuda:0'), tensor(1., device='cuda:0'), tensor(1., device='cuda:0'), tensor(1., device='cuda:0'), tensor(1., device='cuda:0'), tensor(1., device='cuda:0'), tensor(1., device='cuda:0'), tensor(1., device='cuda:0'), tensor(1., device='cuda:0'), tensor(1., device='cuda:0'), tensor(1., device='cuda:0'), tensor(1., device='cuda:0'), tensor(1., device='cuda:0'), tensor(1., device='cuda:0'), tensor(1., device='cuda:0'), tensor(1., device='cuda:0'), tensor(1., device='cuda:0'), tensor(-1., device='cuda:0'), tensor(1., device='cuda:0'), tensor(-1., device='cuda:0'), tensor(1., device='cuda:0'), tensor(-1., device='cuda:0'), tensor(1., device='cuda:0'), tensor(1., device='cuda:0'), tensor(1., device='cuda:0'), tensor(1., device='cuda:0'), tensor(1., device='cuda:0'), tensor(1., device='cuda:0'), tensor(1., device='cuda:0'), tensor(1., device='cuda:0'), tensor(-1., device='cuda:0'), tensor(1., device='cuda:0'), tensor(1., device='cuda:0'), tensor(-1., device='cuda:0'), tensor(1., device='cuda:0'), tensor(1., device='cuda:0'), tensor(-1., device='cuda:0'), tensor(1., device='cuda:0'), tensor(1., device='cuda:0'), tensor(1., device='cuda:0'), tensor(1., device='cuda:0'), tensor(1., device='cuda:0'), tensor(-1., device='cuda:0'), tensor(-1., device='cuda:0'), tensor(-1., device='cuda:0'), tensor(1., device='cuda:0'), tensor(-1., device='cuda:0'), tensor(-1., device='cuda:0'), tensor(-1., device='cuda:0'), tensor(-1., device='cuda:0'), tensor(-1., device='cuda:0'), tensor(-1., device='cuda:0'), tensor(1., device='cuda:0'), tensor(-1., device='cuda:0'), tensor(-1., device='cuda:0'), tensor(-1., device='cuda:0'), tensor(1., device='cuda:0'), tensor(-1., device='cuda:0'), tensor(1., device='cuda:0'), tensor(-1., device='cuda:0'), tensor(-1., device='cuda:0'), tensor(1., device='cuda:0'), tensor(-1., device='cuda:0'), tensor(1., device='cuda:0'), tensor(-1., device='cuda:0'), tensor(-1., device='cuda:0'), tensor(-1., device='cuda:0'), tensor(1., device='cuda:0'), tensor(1., device='cuda:0'), tensor(-1., device='cuda:0'), tensor(1., device='cuda:0'), tensor(1., device='cuda:0'), tensor(1., device='cuda:0'), tensor(-1., device='cuda:0'), tensor(-1., device='cuda:0'), tensor(1., device='cuda:0'), tensor(-1., device='cuda:0'), tensor(1., device='cuda:0'), tensor(1., device='cuda:0'), tensor(1., device='cuda:0'), tensor(-1., device='cuda:0'), tensor(-1., device='cuda:0'), tensor(-1., device='cuda:0'), tensor(1., device='cuda:0'), tensor(1., device='cuda:0'), tensor(-1., device='cuda:0'), tensor(-1., device='cuda:0'), tensor(1., device='cuda:0'), tensor(1., device='cuda:0'), tensor(-1., device='cuda:0'), tensor(1., device='cuda:0'), tensor(1., device='cuda:0'), tensor(1., device='cuda:0'), tensor(-1., device='cuda:0'), tensor(1., device='cuda:0'), tensor(1., device='cuda:0'), tensor(1., device='cuda:0'), tensor(1., device='cuda:0'), tensor(1., device='cuda:0'), tensor(1., device='cuda:0'), tensor(-1., device='cuda:0'), tensor(1., device='cuda:0'), tensor(-1., device='cuda:0'), tensor(-1., device='cuda:0'), tensor(1., device='cuda:0'), tensor(1., device='cuda:0'), tensor(1., device='cuda:0'), tensor(1., device='cuda:0'), tensor(1., device='cuda:0'), tensor(1., device='cuda:0'), tensor(1., device='cuda:0'), tensor(1., device='cuda:0'), tensor(1., device='cuda:0'), tensor(1., device='cuda:0'), tensor(1., device='cuda:0'), tensor(-1., device='cuda:0'), tensor(-1., device='cuda:0'), tensor(1., device='cuda:0'), tensor(1., device='cuda:0'), tensor(1., device='cuda:0'), tensor(-1., device='cuda:0'), tensor(1., device='cuda:0'), tensor(1., device='cuda:0'), tensor(-1., device='cuda:0'), tensor(-1., device='cuda:0'), tensor(1., device='cuda:0'), tensor(-1., device='cuda:0'), tensor(1., device='cuda:0'), tensor(-1., device='cuda:0'), tensor(-1., device='cuda:0'), tensor(1., device='cuda:0'), tensor(1., device='cuda:0'), tensor(-1., device='cuda:0'), tensor(1., device='cuda:0'), tensor(1., device='cuda:0'), tensor(1., device='cuda:0'), tensor(1., device='cuda:0'), tensor(-1., device='cuda:0'), tensor(1., device='cuda:0'), tensor(1., device='cuda:0'), tensor(1., device='cuda:0'), tensor(-1., device='cuda:0'), tensor(1., device='cuda:0'), tensor(-1., device='cuda:0'), tensor(1., device='cuda:0'), tensor(-1., device='cuda:0'), tensor(1., device='cuda:0'), tensor(1., device='cuda:0'), tensor(-1., device='cuda:0'), tensor(1., device='cuda:0'), tensor(-1., device='cuda:0'), tensor(-1., device='cuda:0'), tensor(-1., device='cuda:0'), tensor(-1., device='cuda:0'), tensor(1., device='cuda:0'), tensor(-1., device='cuda:0'), tensor(1., device='cuda:0'), tensor(1., device='cuda:0'), tensor(-1., device='cuda:0'), tensor(-1., device='cuda:0'), tensor(1., device='cuda:0'), tensor(1., device='cuda:0'), tensor(1., device='cuda:0'), tensor(1., device='cuda:0'), tensor(1., device='cuda:0'), tensor(1., device='cuda:0'), tensor(1., device='cuda:0'), tensor(1., device='cuda:0'), tensor(-1., device='cuda:0'), tensor(-1., device='cuda:0'), tensor(1., device='cuda:0'), tensor(1., device='cuda:0'), tensor(1., device='cuda:0'), tensor(1., device='cuda:0'), tensor(1., device='cuda:0'), tensor(-1., device='cuda:0'), tensor(1., device='cuda:0'), tensor(-1., device='cuda:0'), tensor(1., device='cuda:0'), tensor(1., device='cuda:0'), tensor(1., device='cuda:0'), tensor(-1., device='cuda:0'), tensor(-1., device='cuda:0'), tensor(1., device='cuda:0'), tensor(-1., device='cuda:0'), tensor(-1., device='cuda:0'), tensor(1., device='cuda:0'), tensor(1., device='cuda:0'), tensor(-1., device='cuda:0'), tensor(1., device='cuda:0'), tensor(-1., device='cuda:0'), tensor(1., device='cuda:0'), tensor(1., device='cuda:0'), tensor(1., device='cuda:0'), tensor(1., device='cuda:0'), tensor(1., device='cuda:0'), tensor(1., device='cuda:0'), tensor(1., device='cuda:0'), tensor(-1., device='cuda:0'), tensor(-1., device='cuda:0'), tensor(-1., device='cuda:0'), tensor(1., device='cuda:0'), tensor(1., device='cuda:0'), tensor(1., device='cuda:0'), tensor(-1., device='cuda:0'), tensor(1., device='cuda:0'), tensor(1., device='cuda:0'), tensor(1., device='cuda:0'), tensor(1., device='cuda:0'), tensor(1., device='cuda:0'), tensor(1., device='cuda:0'), tensor(1., device='cuda:0'), tensor(1., device='cuda:0'), tensor(1., device='cuda:0'), tensor(-1., device='cuda:0'), tensor(1., device='cuda:0'), tensor(1., device='cuda:0'), tensor(1., device='cuda:0'), tensor(-1., device='cuda:0'), tensor(1., device='cuda:0'), tensor(1., device='cuda:0'), tensor(1., device='cuda:0'), tensor(1., device='cuda:0'), tensor(-1., device='cuda:0'), tensor(1., device='cuda:0'), tensor(-1., device='cuda:0'), tensor(-1., device='cuda:0'), tensor(-1., device='cuda:0'), tensor(-1., device='cuda:0'), tensor(1., device='cuda:0'), tensor(1., device='cuda:0'), tensor(1., device='cuda:0'), tensor(1., device='cuda:0'), tensor(1., device='cuda:0'), tensor(1., device='cuda:0'), tensor(-1., device='cuda:0'), tensor(-1., device='cuda:0'), tensor(1., device='cuda:0'), tensor(1., device='cuda:0'), tensor(-1., device='cuda:0'), tensor(1., device='cuda:0'), tensor(1., device='cuda:0'), tensor(1., device='cuda:0'), tensor(1., device='cuda:0'), tensor(1., device='cuda:0'), tensor(1., device='cuda:0'), tensor(-1., device='cuda:0'), tensor(1., device='cuda:0'), tensor(-1., device='cuda:0'), tensor(-1., device='cuda:0'), tensor(1., device='cuda:0'), tensor(1., device='cuda:0'), tensor(1., device='cuda:0'), tensor(-1., device='cuda:0'), tensor(1., device='cuda:0'), tensor(1., device='cuda:0'), tensor(-1., device='cuda:0'), tensor(1., device='cuda:0'), tensor(1., device='cuda:0'), tensor(1., device='cuda:0'), tensor(1., device='cuda:0'), tensor(-1., device='cuda:0'), tensor(-1., device='cuda:0'), tensor(-1., device='cuda:0'), tensor(-1., device='cuda:0'), tensor(-1., device='cuda:0'), tensor(1., device='cuda:0'), tensor(-1., device='cuda:0'), tensor(-1., device='cuda:0'), tensor(1., device='cuda:0'), tensor(-1., device='cuda:0'), tensor(1., device='cuda:0'), tensor(-1., device='cuda:0'), tensor(1., device='cuda:0'), tensor(1., device='cuda:0'), tensor(-1., device='cuda:0'), tensor(-1., device='cuda:0'), tensor(1., device='cuda:0'), tensor(-1., device='cuda:0'), tensor(-1., device='cuda:0'), tensor(-1., device='cuda:0'), tensor(1., device='cuda:0'), tensor(-1., device='cuda:0'), tensor(1., device='cuda:0'), tensor(-1., device='cuda:0'), tensor(1., device='cuda:0'), tensor(1., device='cuda:0'), tensor(1., device='cuda:0'), tensor(-1., device='cuda:0'), tensor(1., device='cuda:0'), tensor(-1., device='cuda:0'), tensor(-1., device='cuda:0'), tensor(-1., device='cuda:0'), tensor(1., device='cuda:0'), tensor(-1., device='cuda:0'), tensor(1., device='cuda:0'), tensor(1., device='cuda:0'), tensor(1., device='cuda:0'), tensor(-1., device='cuda:0'), tensor(-1., device='cuda:0'), tensor(1., device='cuda:0'), tensor(-1., device='cuda:0'), tensor(-1., device='cuda:0'), tensor(1., device='cuda:0'), tensor(-1., device='cuda:0'), tensor(-1., device='cuda:0'), tensor(1., device='cuda:0'), tensor(1., device='cuda:0'), tensor(1., device='cuda:0'), tensor(1., device='cuda:0'), tensor(1., device='cuda:0'), tensor(1., device='cuda:0'), tensor(1., device='cuda:0'), tensor(1., device='cuda:0'), tensor(-1., device='cuda:0'), tensor(-1., device='cuda:0'), tensor(1., device='cuda:0'), tensor(-1., device='cuda:0'), tensor(1., device='cuda:0'), tensor(-1., device='cuda:0'), tensor(-1., device='cuda:0'), tensor(-1., device='cuda:0'), tensor(-1., device='cuda:0'), tensor(1., device='cuda:0'), tensor(1., device='cuda:0'), tensor(-1., device='cuda:0'), tensor(1., device='cuda:0'), tensor(1., device='cuda:0'), tensor(1., device='cuda:0'), tensor(-1., device='cuda:0'), tensor(-1., device='cuda:0'), tensor(-1., device='cuda:0'), tensor(1., device='cuda:0'), tensor(1., device='cuda:0'), tensor(-1., device='cuda:0'), tensor(-1., device='cuda:0'), tensor(1., device='cuda:0'), tensor(1., device='cuda:0'), tensor(1., device='cuda:0'), tensor(-1., device='cuda:0'), tensor(1., device='cuda:0'), tensor(1., device='cuda:0'), tensor(-1., device='cuda:0'), tensor(1., device='cuda:0'), tensor(1., device='cuda:0'), tensor(1., device='cuda:0'), tensor(1., device='cuda:0'), tensor(1., device='cuda:0'), tensor(1., device='cuda:0'), tensor(-1., device='cuda:0'), tensor(-1., device='cuda:0'), tensor(-1., device='cuda:0'), tensor(1., device='cuda:0'), tensor(1., device='cuda:0'), tensor(1., device='cuda:0'), tensor(-1., device='cuda:0'), tensor(1., device='cuda:0'), tensor(1., device='cuda:0'), tensor(1., device='cuda:0'), tensor(-1., device='cuda:0'), tensor(1., device='cuda:0'), tensor(1., device='cuda:0'), tensor(-1., device='cuda:0'), tensor(-1., device='cuda:0'), tensor(-1., device='cuda:0'), tensor(1., device='cuda:0'), tensor(-1., device='cuda:0'), tensor(-1., device='cuda:0'), tensor(1., device='cuda:0'), tensor(-1., device='cuda:0'), tensor(1., device='cuda:0'), tensor(-1., device='cuda:0'), tensor(1., device='cuda:0'), tensor(1., device='cuda:0'), tensor(1., device='cuda:0'), tensor(1., device='cuda:0'), tensor(1., device='cuda:0'), tensor(-1., device='cuda:0'), tensor(1., device='cuda:0'), tensor(1., device='cuda:0'), tensor(-1., device='cuda:0'), tensor(-1., device='cuda:0'), tensor(1., device='cuda:0'), tensor(1., device='cuda:0'), tensor(1., device='cuda:0'), tensor(1., device='cuda:0'), tensor(1., device='cuda:0'), tensor(1., device='cuda:0'), tensor(1., device='cuda:0'), tensor(-1., device='cuda:0'), tensor(1., device='cuda:0'), tensor(-1., device='cuda:0'), tensor(1., device='cuda:0'), tensor(-1., device='cuda:0'), tensor(-1., device='cuda:0'), tensor(1., device='cuda:0'), tensor(1., device='cuda:0'), tensor(-1., device='cuda:0'), tensor(1., device='cuda:0'), tensor(-1., device='cuda:0'), tensor(1., device='cuda:0'), tensor(1., device='cuda:0'), tensor(-1., device='cuda:0'), tensor(-1., device='cuda:0'), tensor(-1., device='cuda:0'), tensor(-1., device='cuda:0'), tensor(1., device='cuda:0'), tensor(1., device='cuda:0'), tensor(1., device='cuda:0'), tensor(1., device='cuda:0'), tensor(1., device='cuda:0'), tensor(-1., device='cuda:0'), tensor(1., device='cuda:0'), tensor(1., device='cuda:0'), tensor(-1., device='cuda:0'), tensor(1., device='cuda:0'), tensor(1., device='cuda:0'), tensor(1., device='cuda:0'), tensor(1., device='cuda:0'), tensor(1., device='cuda:0'), tensor(1., device='cuda:0'), tensor(-1., device='cuda:0'), tensor(1., device='cuda:0'), tensor(1., device='cuda:0'), tensor(1., device='cuda:0'), tensor(-1., device='cuda:0'), tensor(1., device='cuda:0'), tensor(-1., device='cuda:0'), tensor(1., device='cuda:0'), tensor(1., device='cuda:0'), tensor(-1., device='cuda:0'), tensor(1., device='cuda:0'), tensor(1., device='cuda:0'), tensor(-1., device='cuda:0'), tensor(1., device='cuda:0'), tensor(1., device='cuda:0'), tensor(-1., device='cuda:0'), tensor(-1., device='cuda:0'), tensor(1., device='cuda:0'), tensor(1., device='cuda:0'), tensor(-1., device='cuda:0'), tensor(-1., device='cuda:0'), tensor(1., device='cuda:0'), tensor(1., device='cuda:0'), tensor(-1., device='cuda:0'), tensor(1., device='cuda:0'), tensor(-1., device='cuda:0'), tensor(1., device='cuda:0'), tensor(-1., device='cuda:0'), tensor(-1., device='cuda:0'), tensor(-1., device='cuda:0'), tensor(1., device='cuda:0'), tensor(1., device='cuda:0'), tensor(1., device='cuda:0'), tensor(1., device='cuda:0'), tensor(-1., device='cuda:0'), tensor(-1., device='cuda:0'), tensor(1., device='cuda:0'), tensor(1., device='cuda:0'), tensor(1., device='cuda:0'), tensor(1., device='cuda:0'), tensor(-1., device='cuda:0'), tensor(-1., device='cuda:0'), tensor(-1., device='cuda:0'), tensor(-1., device='cuda:0'), tensor(1., device='cuda:0'), tensor(1., device='cuda:0'), tensor(1., device='cuda:0'), tensor(-1., device='cuda:0'), tensor(-1., device='cuda:0'), tensor(1., device='cuda:0'), tensor(-1., device='cuda:0'), tensor(1., device='cuda:0'), tensor(1., device='cuda:0'), tensor(1., device='cuda:0'), tensor(-1., device='cuda:0'), tensor(-1., device='cuda:0'), tensor(-1., device='cuda:0'), tensor(-1., device='cuda:0'), tensor(-1., device='cuda:0'), tensor(1., device='cuda:0'), tensor(1., device='cuda:0'), tensor(-1., device='cuda:0'), tensor(-1., device='cuda:0'), tensor(-1., device='cuda:0'), tensor(1., device='cuda:0'), tensor(1., device='cuda:0'), tensor(-1., device='cuda:0'), tensor(1., device='cuda:0'), tensor(1., device='cuda:0'), tensor(-1., device='cuda:0'), tensor(1., device='cuda:0'), tensor(1., device='cuda:0'), tensor(1., device='cuda:0'), tensor(1., device='cuda:0'), tensor(-1., device='cuda:0'), tensor(1., device='cuda:0'), tensor(1., device='cuda:0'), tensor(-1., device='cuda:0'), tensor(1., device='cuda:0'), tensor(1., device='cuda:0'), tensor(1., device='cuda:0'), tensor(-1., device='cuda:0'), tensor(1., device='cuda:0'), tensor(1., device='cuda:0'), tensor(-1., device='cuda:0'), tensor(-1., device='cuda:0'), tensor(1., device='cuda:0'), tensor(1., device='cuda:0'), tensor(-1., device='cuda:0'), tensor(1., device='cuda:0'), tensor(1., device='cuda:0'), tensor(1., device='cuda:0'), tensor(-1., device='cuda:0'), tensor(1., device='cuda:0'), tensor(1., device='cuda:0'), tensor(1., device='cuda:0'), tensor(1., device='cuda:0'), tensor(1., device='cuda:0'), tensor(1., device='cuda:0'), tensor(-1., device='cuda:0'), tensor(1., device='cuda:0'), tensor(1., device='cuda:0'), tensor(1., device='cuda:0'), tensor(-1., device='cuda:0'), tensor(-1., device='cuda:0'), tensor(1., device='cuda:0'), tensor(-1., device='cuda:0'), tensor(1., device='cuda:0'), tensor(1., device='cuda:0'), tensor(-1., device='cuda:0'), tensor(1., device='cuda:0'), tensor(1., device='cuda:0'), tensor(-1., device='cuda:0'), tensor(-1., device='cuda:0'), tensor(-1., device='cuda:0'), tensor(-1., device='cuda:0'), tensor(1., device='cuda:0'), tensor(1., device='cuda:0'), tensor(-1., device='cuda:0'), tensor(1., device='cuda:0'), tensor(1., device='cuda:0'), tensor(-1., device='cuda:0'), tensor(1., device='cuda:0'), tensor(1., device='cuda:0'), tensor(-1., device='cuda:0'), tensor(1., device='cuda:0'), tensor(1., device='cuda:0'), tensor(-1., device='cuda:0'), tensor(-1., device='cuda:0'), tensor(1., device='cuda:0'), tensor(1., device='cuda:0'), tensor(-1., device='cuda:0'), tensor(1., device='cuda:0'), tensor(-1., device='cuda:0'), tensor(1., device='cuda:0'), tensor(1., device='cuda:0'), tensor(1., device='cuda:0'), tensor(-1., device='cuda:0'), tensor(-1., device='cuda:0'), tensor(-1., device='cuda:0'), tensor(-1., device='cuda:0'), tensor(1., device='cuda:0'), tensor(1., device='cuda:0'), tensor(-1., device='cuda:0'), tensor(1., device='cuda:0'), tensor(-1., device='cuda:0'), tensor(1., device='cuda:0'), tensor(-1., device='cuda:0'), tensor(1., device='cuda:0'), tensor(1., device='cuda:0'), tensor(-1., device='cuda:0'), tensor(1., device='cuda:0'), tensor(1., device='cuda:0'), tensor(-1., device='cuda:0'), tensor(1., device='cuda:0'), tensor(1., device='cuda:0'), tensor(1., device='cuda:0'), tensor(-1., device='cuda:0'), tensor(-1., device='cuda:0'), tensor(1., device='cuda:0'), tensor(1., device='cuda:0'), tensor(1., device='cuda:0'), tensor(1., device='cuda:0'), tensor(-1., device='cuda:0'), tensor(1., device='cuda:0'), tensor(1., device='cuda:0'), tensor(1., device='cuda:0'), tensor(1., device='cuda:0'), tensor(1., device='cuda:0'), tensor(1., device='cuda:0'), tensor(1., device='cuda:0'), tensor(1., device='cuda:0'), tensor(-1., device='cuda:0'), tensor(-1., device='cuda:0'), tensor(1., device='cuda:0'), tensor(1., device='cuda:0'), tensor(-1., device='cuda:0'), tensor(-1., device='cuda:0'), tensor(1., device='cuda:0'), tensor(1., device='cuda:0'), tensor(1., device='cuda:0'), tensor(1., device='cuda:0'), tensor(1., device='cuda:0'), tensor(-1., device='cuda:0'), tensor(1., device='cuda:0'), tensor(1., device='cuda:0'), tensor(-1., device='cuda:0'), tensor(1., device='cuda:0'), tensor(-1., device='cuda:0'), tensor(1., device='cuda:0'), tensor(1., device='cuda:0'), tensor(-1., device='cuda:0'), tensor(1., device='cuda:0'), tensor(-1., device='cuda:0'), tensor(1., device='cuda:0'), tensor(1., device='cuda:0'), tensor(-1., device='cuda:0'), tensor(1., device='cuda:0'), tensor(1., device='cuda:0'), tensor(1., device='cuda:0'), tensor(-1., device='cuda:0'), tensor(-1., device='cuda:0'), tensor(-1., device='cuda:0'), tensor(-1., device='cuda:0'), tensor(-1., device='cuda:0'), tensor(1., device='cuda:0'), tensor(1., device='cuda:0'), tensor(-1., device='cuda:0'), tensor(1., device='cuda:0'), tensor(-1., device='cuda:0'), tensor(1., device='cuda:0'), tensor(-1., device='cuda:0'), tensor(-1., device='cuda:0'), tensor(-1., device='cuda:0'), tensor(-1., device='cuda:0'), tensor(1., device='cuda:0'), tensor(-1., device='cuda:0'), tensor(1., device='cuda:0'), tensor(-1., device='cuda:0'), tensor(1., device='cuda:0'), tensor(1., device='cuda:0'), tensor(1., device='cuda:0'), tensor(-1., device='cuda:0'), tensor(-1., device='cuda:0'), tensor(1., device='cuda:0'), tensor(-1., device='cuda:0'), tensor(-1., device='cuda:0'), tensor(1., device='cuda:0'), tensor(1., device='cuda:0'), tensor(-1., device='cuda:0'), tensor(1., device='cuda:0'), tensor(-1., device='cuda:0'), tensor(1., device='cuda:0'), tensor(-1., device='cuda:0'), tensor(1., device='cuda:0'), tensor(1., device='cuda:0'), tensor(-1., device='cuda:0'), tensor(1., device='cuda:0'), tensor(1., device='cuda:0'), tensor(1., device='cuda:0'), tensor(1., device='cuda:0'), tensor(1., device='cuda:0'), tensor(1., device='cuda:0'), tensor(-1., device='cuda:0'), tensor(1., device='cuda:0'), tensor(-1., device='cuda:0'), tensor(-1., device='cuda:0'), tensor(1., device='cuda:0'), tensor(-1., device='cuda:0'), tensor(1., device='cuda:0'), tensor(1., device='cuda:0'), tensor(1., device='cuda:0'), tensor(-1., device='cuda:0'), tensor(-1., device='cuda:0'), tensor(-1., device='cuda:0'), tensor(1., device='cuda:0'), tensor(-1., device='cuda:0'), tensor(-1., device='cuda:0'), tensor(1., device='cuda:0'), tensor(1., device='cuda:0'), tensor(1., device='cuda:0'), tensor(1., device='cuda:0'), tensor(1., device='cuda:0'), tensor(1., device='cuda:0'), tensor(1., device='cuda:0'), tensor(1., device='cuda:0'), tensor(1., device='cuda:0'), tensor(1., device='cuda:0'), tensor(1., device='cuda:0'), tensor(-1., device='cuda:0'), tensor(-1., device='cuda:0'), tensor(1., device='cuda:0'), tensor(1., device='cuda:0'), tensor(-1., device='cuda:0'), tensor(1., device='cuda:0'), tensor(1., device='cuda:0'), tensor(-1., device='cuda:0'), tensor(-1., device='cuda:0'), tensor(1., device='cuda:0'), tensor(1., device='cuda:0'), tensor(1., device='cuda:0'), tensor(1., device='cuda:0'), tensor(-1., device='cuda:0'), tensor(1., device='cuda:0'), tensor(-1., device='cuda:0'), tensor(1., device='cuda:0'), tensor(1., device='cuda:0'), tensor(-1., device='cuda:0'), tensor(1., device='cuda:0')]\n"
          ],
          "name": "stdout"
        }
      ]
    },
    {
      "cell_type": "code",
      "metadata": {
        "id": "9d7PXpkLSaWC",
        "colab_type": "code",
        "outputId": "4b8d847a-ae5d-4069-bb86-b6de83de3a97",
        "colab": {
          "base_uri": "https://localhost:8080/",
          "height": 54
        }
      },
      "source": [
        "# Time difference for more users\n",
        "\n",
        "import time\n",
        "\n",
        "start = time.time()\n",
        "n_users = 1\n",
        "n_channels = 8\n",
        "r75, t75, rand75 = runner(0.75)\n",
        "end = time.time()\n",
        "print(end - start)\n",
        "\n",
        "start = time.time()\n",
        "n_users = 5\n",
        "n_channels = 8\n",
        "r75, t75, rand75 = runner(0.75)\n",
        "end = time.time()\n",
        "print(end - start)\n"
      ],
      "execution_count": 10,
      "outputs": [
        {
          "output_type": "stream",
          "text": [
            "30.641560316085815\n",
            "196.32079315185547\n"
          ],
          "name": "stdout"
        }
      ]
    },
    {
      "cell_type": "code",
      "metadata": {
        "id": "H0-MQDjTvy1G",
        "colab_type": "code",
        "colab": {}
      },
      "source": [
        "# Implementing A2C\n",
        "\n",
        "envs = []\n",
        "p = 0.75\n",
        "n_threads = 2\n",
        "n_users = 1\n",
        "n_channels = 8\n",
        "for _ in range(n_threads):\n",
        "  envs.append(envChannel(n_users, n_channels, memory, p))"
      ],
      "execution_count": 0,
      "outputs": []
    },
    {
      "cell_type": "code",
      "metadata": {
        "id": "PyFobOJvGhkm",
        "colab_type": "code",
        "colab": {}
      },
      "source": [
        "model_actor = Actor(n_channels, n_channels, 200).to(device)\n",
        "optimizer_actor = optim.Adam(model_actor.parameters(), lr=10**(-3))\n",
        "\n",
        "model_critic = Critic(n_channels, 200).to(device)\n",
        "optimizer_critic = optim.Adam(model_critic.parameters(), lr=5*(10**(-3)))"
      ],
      "execution_count": 0,
      "outputs": []
    },
    {
      "cell_type": "code",
      "metadata": {
        "id": "xuMd6c6pRZP5",
        "colab_type": "code",
        "colab": {}
      },
      "source": [
        "def runner2(p):\n",
        "  n_threads = 2\n",
        "  for _ in range(n_threads):\n",
        "    envs.append(envChannel(n_users, n_channels, memory, p))\n",
        "  sums = 0\n",
        "  \n",
        "  T = 1000\n",
        "  sums_random = 0\n",
        "  r_random = []\n",
        "  Rewards_total = []\n",
        "  \n",
        "  \n",
        "  #states = []\n",
        "  #for _ in range(n_threads):\n",
        "  temp = np.random.choice(2, n_channels)\n",
        "  states = temp.reshape(1, n_channels)\n",
        "  #states.append(temp)\n",
        "  #states = np.stack(states)\n",
        "  \n",
        "  for t_indx in range(T):\n",
        "   \n",
        "  #if T%250000==0:\n",
        "    actions = []\n",
        "    delta = []\n",
        "    values, log_probs = [], []\n",
        "    #states = np.squeeze(states)\n",
        "    #print(states)\n",
        "     # tells which channel is in what state\n",
        "    state_tensor = torch.from_numpy(states).float().to(device)\n",
        "    \n",
        "    value = model_critic(state_tensor) # passed to critic for a single user\n",
        "    values.append(value)\n",
        "    dist = model_actor(state_tensor) # passed to obtain distribution of the policy\n",
        "    action = dist.sample() # get the action of the user\n",
        "    actions.append(action)\n",
        "    log_prob = dist.log_prob(action)\n",
        "    log_probs.append(log_prob)\n",
        "    NS, CS, R = [], [], []\n",
        "    actions = torch.cat(actions)\n",
        "    for env_indx in range(n_threads):\n",
        "      env = envs[env_indx]\n",
        "      #states_n = state_tensor.cpu().numpy()\n",
        "      #channel_states = states_n[0]\n",
        "      channel_states = torch.from_numpy(states).float().to(device)\n",
        "      next_state, cs1, rewards = env.step(actions.cpu().numpy(), channel_states)\n",
        "      NS.append(next_state)\n",
        "      CS.append(cs1.cpu().numpy())\n",
        "      R.append(rewards)\n",
        "    \n",
        "    NS = np.stack(NS)\n",
        "    #print(NS)\n",
        "    CS = np.stack(CS)\n",
        "    channel_states = np.array([CS])\n",
        "    R = np.stack(R)\n",
        "    #print(R)\n",
        "    #channel_states = np.array(CS)\n",
        "    #print(channel_states.shape)\n",
        "    nrewards = []\n",
        "    NS = NS.tolist()\n",
        "    nrewards.append(torch.from_numpy(R).float().to(device))\n",
        "    nrewards = torch.cat(nrewards) \n",
        "    log_probs = torch.cat(log_probs)\n",
        "    values = torch.cat(values)\n",
        "    \n",
        "    if t_indx%10==0:\n",
        "      sums+=nrewards.mean()\n",
        "      Rewards_total.append(sums)\n",
        "      sums = 0\n",
        "    #print(action, rewards, channel_states)\n",
        "    next_state_tensor =  torch.from_numpy(np.array(NS)).float().to(device)\n",
        "    #print(NS)\n",
        "    next_value = model_critic(next_state_tensor)\n",
        "    #print(values.shape)\n",
        "    #print(n)\n",
        "    temp = nrewards+0.9*next_value - value\n",
        "    temp_var = Variable(temp, requires_grad=True)\n",
        "    #print('t',temp)\n",
        "    closs = temp_var.pow(2).mean()\n",
        "    optimizer_critic.zero_grad()\n",
        "    closs.backward()\n",
        "    optimizer_critic.step()\n",
        "\n",
        "    aloss=-(log_probs * temp_var.detach()).mean()\n",
        "    optimizer_actor.zero_grad()\n",
        "    aloss.backward()\n",
        "    optimizer_actor.step()\n",
        "\n",
        "    state = np.array([NS])\n",
        "\n",
        "  total = sum(Rewards_total)/len(Rewards_total)\n",
        "  #rtotal = sum(r_random)/len(r_random)\n",
        "  return Rewards_total, total\n",
        "\n",
        "\n"
      ],
      "execution_count": 0,
      "outputs": []
    },
    {
      "cell_type": "code",
      "metadata": {
        "id": "l-kh_TRK9vqy",
        "colab_type": "code",
        "colab": {}
      },
      "source": [
        "at75, a2c75 = runner2(0.75)\n",
        "at80, a2c80 = runner2(0.8)\n",
        "at85, a2c85 = runner2(0.85)\n",
        "at90, a2c90 = runner2(0.9) "
      ],
      "execution_count": 0,
      "outputs": []
    },
    {
      "cell_type": "code",
      "metadata": {
        "id": "CPSY4oTg-MqK",
        "colab_type": "code",
        "outputId": "e8ac3da3-4cf4-47d2-dddc-f7ce6ab821c1",
        "colab": {
          "base_uri": "https://localhost:8080/",
          "height": 331
        }
      },
      "source": [
        "print(t75, t80, t85, t90)\n",
        "prob = [0.75, 0.8, 0.85, 0.9]\n",
        "plt.plot(prob, [t75, t80, t85, t90], label='TD-AC')\n",
        "plt.plot(prob, [a2c75, a2c80, a2c85, a2c90], label='A2C')\n",
        "plt.plot(prob, [rand75, rand80, rand85, rand90], label='Random')\n",
        "plt.xticks(prob, prob)\n",
        "plt.legend()\n",
        "plt.grid()\n",
        "plt.ylabel('Average Reward')\n",
        "plt.xlabel('Probabilities')\n",
        "\n",
        "plt.title('Comparisons')\n",
        "plt.savefig('first.png', bbox_inches='tight')\n",
        "plt.show()\n",
        "\n",
        "print(t75, a2c75)"
      ],
      "execution_count": 15,
      "outputs": [
        {
          "output_type": "stream",
          "text": [
            "tensor(0.0590, device='cuda:0') tensor(0.0820, device='cuda:0') tensor(0.1480, device='cuda:0') tensor(0.1620, device='cuda:0')\n"
          ],
          "name": "stdout"
        },
        {
          "output_type": "display_data",
          "data": {
            "image/png": "[encoded data removed]",
            "text/plain": [
              "<Figure size 432x288 with 1 Axes>"
            ]
          },
          "metadata": {
            "tags": [],
            "needs_background": "light"
          }
        },
        {
          "output_type": "stream",
          "text": [
            "tensor(0.0590, device='cuda:0') tensor(0.9200, device='cuda:0')\n"
          ],
          "name": "stdout"
        }
      ]
    },
    {
      "cell_type": "code",
      "metadata": {
        "id": "IM1mezhoegPt",
        "colab_type": "code",
        "colab": {}
      },
      "source": [
        ""
      ],
      "execution_count": 0,
      "outputs": []
    }
  ]
}